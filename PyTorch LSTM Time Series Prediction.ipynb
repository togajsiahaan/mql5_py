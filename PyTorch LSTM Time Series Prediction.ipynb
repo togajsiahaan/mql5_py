{
  "cells": [
    {
      "cell_type": "markdown",
      "metadata": {
        "colab_type": "text",
        "id": "view-in-github"
      },
      "source": [
        "<a href=\"https://colab.research.google.com/github/togajsiahaan/mql5_py/blob/main/PyTorch%20LSTM%20Time%20Series%20Prediction.ipynb\" target=\"_parent\"><img src=\"https://colab.research.google.com/assets/colab-badge.svg\" alt=\"Open In Colab\"/></a>"
      ]
    },
    {
      "cell_type": "markdown",
      "metadata": {
        "id": "DmCC56hixycd"
      },
      "source": [
        "# LSTM for Time Series Prediction in PyTorch\n",
        "https://machinelearningmastery.com/lstm-for-time-series-prediction-in-pytorch/  "
      ]
    },
    {
      "cell_type": "code",
      "execution_count": null,
      "metadata": {
        "id": "WhjPbhkFxqjV"
      },
      "outputs": [],
      "source": [
        "import matplotlib.pyplot as plt\n",
        "import numpy as np\n",
        "import pandas as pd\n",
        "import torch\n",
        "import torch.nn as nn\n",
        "import torch.optim as optim\n",
        "import torch.utils.data as data"
      ]
    },
    {
      "cell_type": "code",
      "execution_count": null,
      "metadata": {
        "id": "t0CdQfckx6gA"
      },
      "outputs": [],
      "source": [
        "df = pd.read_csv('../data/airline-passengers.csv')\n",
        "timeseries = df[[\"Passengers\"]].values.astype('float32')"
      ]
    },
    {
      "cell_type": "code",
      "execution_count": null,
      "metadata": {
        "id": "yVH2f7w9yBWP"
      },
      "outputs": [],
      "source": [
        "# train-test split for time series\n",
        "train_size = int(len(timeseries) * 0.67)\n",
        "test_size = len(timeseries) - train_size\n",
        "train, test = timeseries[:train_size], timeseries[train_size:]"
      ]
    },
    {
      "cell_type": "code",
      "execution_count": null,
      "metadata": {
        "id": "o7ulmHPPyFWP"
      },
      "outputs": [],
      "source": [
        "def create_dataset(dataset, lookback):\n",
        "    \"\"\"Transform a time series into a prediction dataset\n",
        "\n",
        "    Args:\n",
        "        dataset: A numpy array of time series, first dimension is the time steps\n",
        "        lookback: Size of window for prediction\n",
        "    \"\"\"\n",
        "    X, y = [], []\n",
        "    for i in range(len(dataset)-lookback):\n",
        "        feature = dataset[i:i+lookback]\n",
        "        target = dataset[i+1:i+lookback+1]\n",
        "        X.append(feature)\n",
        "        y.append(target)\n",
        "    return torch.tensor(X), torch.tensor(y)"
      ]
    },
    {
      "cell_type": "code",
      "execution_count": null,
      "metadata": {
        "id": "m6MxpZ2QyHUk"
      },
      "outputs": [],
      "source": [
        "lookback = 4\n",
        "X_train, y_train = create_dataset(train, lookback=lookback)\n",
        "X_test, y_test = create_dataset(test, lookback=lookback)"
      ]
    },
    {
      "cell_type": "code",
      "execution_count": null,
      "metadata": {
        "id": "8bGsh395yJK8"
      },
      "outputs": [],
      "source": [
        "class AirModel(nn.Module):\n",
        "    def __init__(self):\n",
        "        super().__init__()\n",
        "        self.lstm = nn.LSTM(input_size=1, hidden_size=50, num_layers=1, batch_first=True)\n",
        "        self.linear = nn.Linear(50, 1)\n",
        "    def forward(self, x):\n",
        "        x, _ = self.lstm(x)\n",
        "        x = self.linear(x)\n",
        "        return x"
      ]
    },
    {
      "cell_type": "code",
      "execution_count": null,
      "metadata": {
        "id": "JE5dQJtbyLl6"
      },
      "outputs": [],
      "source": [
        "model = AirModel()\n",
        "optimizer = optim.Adam(model.parameters())\n",
        "loss_fn = nn.MSELoss()\n",
        "loader = data.DataLoader(data.TensorDataset(X_train, y_train), shuffle=True, batch_size=8)"
      ]
    },
    {
      "cell_type": "code",
      "execution_count": null,
      "metadata": {
        "id": "kIV3MNIbyOg6"
      },
      "outputs": [],
      "source": [
        "n_epochs = 2000\n",
        "for epoch in range(n_epochs):\n",
        "    model.train()\n",
        "    for X_batch, y_batch in loader:\n",
        "        y_pred = model(X_batch)\n",
        "        loss = loss_fn(y_pred, y_batch)\n",
        "        optimizer.zero_grad()\n",
        "        loss.backward()\n",
        "        optimizer.step()\n",
        "    # Validation\n",
        "    if epoch % 100 != 0:\n",
        "        continue\n",
        "    model.eval()\n",
        "    with torch.no_grad():\n",
        "        y_pred = model(X_train)\n",
        "        train_rmse = np.sqrt(loss_fn(y_pred, y_train))\n",
        "        y_pred = model(X_test)\n",
        "        test_rmse = np.sqrt(loss_fn(y_pred, y_test))\n",
        "    print(\"Epoch %d: train RMSE %.4f, test RMSE %.4f\" % (epoch, train_rmse, test_rmse))\n",
        "\n",
        "with torch.no_grad():\n",
        "    # shift train predictions for plotting\n",
        "    train_plot = np.ones_like(timeseries) * np.nan\n",
        "    y_pred = model(X_train)\n",
        "    y_pred = y_pred[:, -1, :]\n",
        "    train_plot[lookback:train_size] = model(X_train)[:, -1, :]\n",
        "    # shift test predictions for plotting\n",
        "    test_plot = np.ones_like(timeseries) * np.nan\n",
        "    test_plot[train_size+lookback:len(timeseries)] = model(X_test)[:, -1, :]"
      ]
    },
    {
      "cell_type": "code",
      "execution_count": null,
      "metadata": {
        "id": "tfNZLhifxnnu"
      },
      "outputs": [],
      "source": [
        "# plot\n",
        "plt.plot(timeseries)\n",
        "plt.plot(train_plot, c='r')\n",
        "plt.plot(test_plot, c='g')\n",
        "plt.show()"
      ]
    }
  ],
  "metadata": {
    "colab": {
      "authorship_tag": "ABX9TyPW1IK44LsemS49VuX8JIqm",
      "include_colab_link": true,
      "provenance": []
    },
    "kernelspec": {
      "display_name": "Python 3",
      "name": "python3"
    },
    "language_info": {
      "name": "python"
    }
  },
  "nbformat": 4,
  "nbformat_minor": 0
}
